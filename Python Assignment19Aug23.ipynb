{
 "cells": [
  {
   "cell_type": "code",
   "execution_count": 1,
   "id": "d16cdd3c-8762-4748-9986-712564bf4a29",
   "metadata": {},
   "outputs": [
    {
     "name": "stdin",
     "output_type": "stream",
     "text": [
      "x= 10\n",
      "y= 20\n"
     ]
    },
    {
     "name": "stdout",
     "output_type": "stream",
     "text": [
      "swapping of numbers\n",
      "x= 20 y= 10\n"
     ]
    }
   ],
   "source": [
    "x=int(input ('x='))\n",
    "y=int(input ('y='))\n",
    "x=x+y\n",
    "y=x-y\n",
    "x=x-y\n",
    "print ('swapping of numbers')\n",
    "print ('x=',x,'y=',y)"
   ]
  },
  {
   "cell_type": "code",
   "execution_count": 2,
   "id": "e87a6a1f-101d-4cd3-a7f3-cfc9b3f2f50a",
   "metadata": {},
   "outputs": [
    {
     "name": "stdout",
     "output_type": "stream",
     "text": [
      "calculate area of a rectangle\n"
     ]
    },
    {
     "name": "stdin",
     "output_type": "stream",
     "text": [
      "length= 10\n",
      "width= 20\n"
     ]
    },
    {
     "name": "stdout",
     "output_type": "stream",
     "text": [
      "Area of rectange= 200.0\n"
     ]
    }
   ],
   "source": [
    "print ('calculate area of a rectangle')\n",
    "length=float(input('length='))\n",
    "width=float(input('width='))\n",
    "area=length*width\n",
    "print ('Area of rectange=',area)"
   ]
  },
  {
   "cell_type": "code",
   "execution_count": 3,
   "id": "3f4d019a-40ef-4f6f-b9ff-6bd6733147af",
   "metadata": {},
   "outputs": [
    {
     "name": "stdout",
     "output_type": "stream",
     "text": [
      "convert celsius to fahrenheit\n"
     ]
    },
    {
     "name": "stdin",
     "output_type": "stream",
     "text": [
      "enter the celsius value : 10\n"
     ]
    },
    {
     "name": "stdout",
     "output_type": "stream",
     "text": [
      "the fahrenheit value is 50.0\n"
     ]
    }
   ],
   "source": [
    "print ('convert celsius to fahrenheit')\n",
    "celsius=float(input('enter the celsius value :'))\n",
    "fahrenheit=float(celsius*1.8+32)\n",
    "print ('the fahrenheit value is',fahrenheit)"
   ]
  },
  {
   "cell_type": "code",
   "execution_count": 4,
   "id": "a06881c3-5ff1-431b-897b-ed3fafb4e007",
   "metadata": {},
   "outputs": [
    {
     "name": "stdout",
     "output_type": "stream",
     "text": [
      "Program to calculate length of a string\n"
     ]
    },
    {
     "name": "stdin",
     "output_type": "stream",
     "text": [
      "Enter a string : velayudham\n"
     ]
    },
    {
     "data": {
      "text/plain": [
       "10"
      ]
     },
     "execution_count": 4,
     "metadata": {},
     "output_type": "execute_result"
    }
   ],
   "source": [
    "print ('Program to calculate length of a string')\n",
    "string=str(input('Enter a string :'))\n",
    "len(string)"
   ]
  },
  {
   "cell_type": "code",
   "execution_count": 5,
   "id": "55a20d5f-c27b-4840-be3f-b3bbcfa34f30",
   "metadata": {},
   "outputs": [
    {
     "name": "stdout",
     "output_type": "stream",
     "text": [
      "Program to count the vowels in a string\n"
     ]
    },
    {
     "name": "stdin",
     "output_type": "stream",
     "text": [
      "enter a sentence : i am veayudham\n"
     ]
    },
    {
     "name": "stdout",
     "output_type": "stream",
     "text": [
      "Number of vowels are : 6\n"
     ]
    }
   ],
   "source": [
    "print ('Program to count the vowels in a string')\n",
    "string=str(input('enter a sentence :'))\n",
    "vowels=0\n",
    "for i in string:\n",
    "      if(i=='a' or i=='e' or i=='i' or i=='o' or i=='u' or i=='A' or i=='E' or i=='I' or i=='O' or i=='U'):\n",
    "            vowels=vowels+1\n",
    "print('Number of vowels are :',vowels)"
   ]
  },
  {
   "cell_type": "code",
   "execution_count": 6,
   "id": "1bd4a3a3-7594-4bbd-9953-259d38b664ef",
   "metadata": {},
   "outputs": [
    {
     "name": "stdout",
     "output_type": "stream",
     "text": [
      "Program to reverse the order of characters using string slicing\n"
     ]
    },
    {
     "name": "stdin",
     "output_type": "stream",
     "text": [
      "enter a string : I have enrolled for FSDS Pro\n"
     ]
    },
    {
     "data": {
      "text/plain": [
       "'orP SDSF rof dellorne evah I'"
      ]
     },
     "execution_count": 6,
     "metadata": {},
     "output_type": "execute_result"
    }
   ],
   "source": [
    "print ('Program to reverse the order of characters using string slicing')\n",
    "string1=str(input('enter a string :'))\n",
    "string1[::-1]"
   ]
  },
  {
   "cell_type": "code",
   "execution_count": 20,
   "id": "1011a282-4ff3-49e6-aa3e-30c18ccae42b",
   "metadata": {},
   "outputs": [
    {
     "name": "stdout",
     "output_type": "stream",
     "text": [
      "Program to check if the entered string is a palindrome\n"
     ]
    },
    {
     "name": "stdin",
     "output_type": "stream",
     "text": [
      " enter a string : ABA\n"
     ]
    },
    {
     "name": "stdout",
     "output_type": "stream",
     "text": [
      "The reverse of  ABA is  ABA\n",
      "The entered string is a palindrome\n"
     ]
    }
   ],
   "source": [
    "print ('Program to check if the entered string is a palindrome')\n",
    "string2=str(input(' enter a string :'))\n",
    "string3=string2[::-1]\n",
    "print ('The reverse of ',string2, 'is ',string3)\n",
    "if (string2==string2[::-1]) :\n",
    "    print ('The entered string is a palindrome')\n",
    "else :\n",
    "    print ('The entered string is not a palindrome')\n",
    "    "
   ]
  },
  {
   "cell_type": "code",
   "execution_count": null,
   "id": "702b1ffd-f12a-4c3c-bdae-914c038c8c7c",
   "metadata": {},
   "outputs": [
    {
     "name": "stdout",
     "output_type": "stream",
     "text": [
      "Program to removes all the spaces from the entered string\n"
     ]
    }
   ],
   "source": [
    "print ('Program to removes all the spaces from the entered string')\n",
    "string4=str(input('Enter a string'))\n",
    "string4=string4.replace (\" \",\"\")\n",
    "print (' string after removing spaces :',string4)\n"
   ]
  },
  {
   "cell_type": "code",
   "execution_count": null,
   "id": "4e8c3c10-c1ea-47ac-88ad-5a15f3b983a3",
   "metadata": {},
   "outputs": [],
   "source": []
  }
 ],
 "metadata": {
  "kernelspec": {
   "display_name": "Python 3 (ipykernel)",
   "language": "python",
   "name": "python3"
  },
  "language_info": {
   "codemirror_mode": {
    "name": "ipython",
    "version": 3
   },
   "file_extension": ".py",
   "mimetype": "text/x-python",
   "name": "python",
   "nbconvert_exporter": "python",
   "pygments_lexer": "ipython3",
   "version": "3.10.8"
  }
 },
 "nbformat": 4,
 "nbformat_minor": 5
}
