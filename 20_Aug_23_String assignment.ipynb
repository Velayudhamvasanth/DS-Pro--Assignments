{
 "cells": [
  {
   "cell_type": "code",
   "execution_count": 3,
   "id": "924b8763-d9c9-4a44-b43b-81a6ecef8eea",
   "metadata": {},
   "outputs": [
    {
     "name": "stdout",
     "output_type": "stream",
     "text": [
      "Program to reverse a string\n",
      "Enter a string\n"
     ]
    },
    {
     "name": "stdin",
     "output_type": "stream",
     "text": [
      " abc\n"
     ]
    },
    {
     "data": {
      "text/plain": [
       "'cba'"
      ]
     },
     "execution_count": 3,
     "metadata": {},
     "output_type": "execute_result"
    }
   ],
   "source": [
    "print(\"Program to reverse a string\")\n",
    "print('Enter a string')\n",
    "string=str(input())\n",
    "string[::-1]"
   ]
  },
  {
   "cell_type": "code",
   "execution_count": 4,
   "id": "c388f636-e181-4530-8a7a-0a40aa17dadd",
   "metadata": {},
   "outputs": [
    {
     "name": "stdout",
     "output_type": "stream",
     "text": [
      "Program to check if the entered string is a palindrome\n"
     ]
    },
    {
     "name": "stdin",
     "output_type": "stream",
     "text": [
      " enter a string : malayalam\n"
     ]
    },
    {
     "name": "stdout",
     "output_type": "stream",
     "text": [
      "The reverse of  malayalam is  malayalam\n",
      "The entered string is a palindrome\n"
     ]
    }
   ],
   "source": [
    "print ('Program to check if the entered string is a palindrome')\n",
    "string2=str(input(' enter a string :'))\n",
    "string3=string2[::-1]\n",
    "print ('The reverse of ',string2, 'is ',string3)\n",
    "if (string2==string2[::-1]) :\n",
    "    print ('The entered string is a palindrome')\n",
    "else :\n",
    "    print ('The entered string is not a palindrome')"
   ]
  },
  {
   "cell_type": "code",
   "execution_count": 9,
   "id": "ae8d8ebf-b467-4a24-87af-01b556c88653",
   "metadata": {},
   "outputs": [
    {
     "name": "stdout",
     "output_type": "stream",
     "text": [
      "Program to convert a string in to upper case\n",
      "Enter a string\n"
     ]
    },
    {
     "name": "stdin",
     "output_type": "stream",
     "text": [
      " welcome\n"
     ]
    },
    {
     "name": "stdout",
     "output_type": "stream",
     "text": [
      "The upper case of the entered string :  WELCOME\n"
     ]
    }
   ],
   "source": [
    "print(\"Program to convert a string in to upper case\")\n",
    "print('Enter a string')\n",
    "string4=str(input())\n",
    "print('The upper case of the entered string : ',str.upper(string4))"
   ]
  },
  {
   "cell_type": "code",
   "execution_count": 10,
   "id": "e35fd99b-f27b-4061-bfec-d5dd6d5fef00",
   "metadata": {},
   "outputs": [
    {
     "name": "stdout",
     "output_type": "stream",
     "text": [
      "Program to convert a string in to lower case\n",
      "Enter a string\n"
     ]
    },
    {
     "name": "stdin",
     "output_type": "stream",
     "text": [
      " WELCOME\n"
     ]
    },
    {
     "name": "stdout",
     "output_type": "stream",
     "text": [
      "The upper case of the entered string :  welcome\n"
     ]
    }
   ],
   "source": [
    "print(\"Program to convert a string in to lower case\")\n",
    "print('Enter a string')\n",
    "string4=str(input())\n",
    "print('The upper case of the entered string : ',str.lower(string4))"
   ]
  },
  {
   "cell_type": "code",
   "execution_count": 11,
   "id": "138f5d8f-ceb9-475e-9ac7-dc4fcc5ccf52",
   "metadata": {},
   "outputs": [
    {
     "name": "stdout",
     "output_type": "stream",
     "text": [
      "Program to count the vowels in a string\n"
     ]
    },
    {
     "name": "stdin",
     "output_type": "stream",
     "text": [
      "enter a sentence : Velayudham\n"
     ]
    },
    {
     "name": "stdout",
     "output_type": "stream",
     "text": [
      "Number of vowels are : 4\n"
     ]
    }
   ],
   "source": [
    "print ('Program to count the vowels in a string')\n",
    "string=str(input('enter a sentence :'))\n",
    "vowels=0\n",
    "for i in string:\n",
    "      if(i=='a' or i=='e' or i=='i' or i=='o' or i=='u' or i=='A' or i=='E' or i=='I' or i=='O' or i=='U'):\n",
    "            vowels=vowels+1\n",
    "print('Number of vowels are :',vowels)"
   ]
  },
  {
   "cell_type": "code",
   "execution_count": 4,
   "id": "8be8fd5d-b6bd-43c1-8068-db45200d9559",
   "metadata": {},
   "outputs": [
    {
     "ename": "SyntaxError",
     "evalue": "invalid syntax. Perhaps you forgot a comma? (58349319.py, line 5)",
     "output_type": "error",
     "traceback": [
      "\u001b[0;36m  Cell \u001b[0;32mIn[5], line 5\u001b[0;36m\u001b[0m\n\u001b[0;31m    if( i=='b' or 'c' or i=='d' or i=='f' or i=='g' or i=='h' or i=='j' or i=='k' or i=='l' or i=='m' or\u001b[0m\n\u001b[0m        ^\u001b[0m\n\u001b[0;31mSyntaxError\u001b[0m\u001b[0;31m:\u001b[0m invalid syntax. Perhaps you forgot a comma?\n"
     ]
    }
   ],
   "source": [
    "print ('Program to count the vowels in a string')\n",
    "string=str(input('enter a string :'))\n",
    "consonants=0\n",
    "for i in string:\n",
    "      if( i=='b' or i=='c' or i=='d' or i=='f' or i=='g' or i=='h' or i=='j' or i=='k' or i=='l' or i=='m' or \n",
    "         i=='n' or i=='p' or i=='q' or i=='r' or i=='s' or i=='t' or i=='v' or i=='w' or i=='x' or i=='y' or i=='z'\n",
    "        i=='B' or i=='C' or i=='D' or i=='F' or i=='G' or i=='H' or i=='J' or i=='K' or i=='L' or i=='M' or \n",
    "         i=='N' or i=='P' or i=='Q' or i=='R' or i=='S' or i=='T' or i=='V' or i=='W' or i=='X' or i=='Y' or i=='Z'):\n",
    "            consonants=consonants+1\n",
    "           \n",
    "print('Number of vowels are :',consonants)"
   ]
  },
  {
   "cell_type": "code",
   "execution_count": 9,
   "id": "1c4ebcfe-de36-4183-8049-cf354d6fa29e",
   "metadata": {},
   "outputs": [
    {
     "name": "stdout",
     "output_type": "stream",
     "text": [
      "Program to remove all the spaces in a string\n"
     ]
    },
    {
     "name": "stdin",
     "output_type": "stream",
     "text": [
      "enter a string : I have enrolled for a FSDS Pro\n"
     ]
    },
    {
     "name": "stdout",
     "output_type": "stream",
     "text": [
      "string after removing space : IhaveenrolledforaFSDSPro\n"
     ]
    }
   ],
   "source": [
    "print ('Program to remove all the spaces in a string')\n",
    "string=str(input('enter a string :'))\n",
    "string=string.replace(\" \",\"\")\n",
    "print( 'string after removing space :', string)"
   ]
  },
  {
   "cell_type": "code",
   "execution_count": 15,
   "id": "c310a480-2771-49f3-948b-5c67960e70a7",
   "metadata": {},
   "outputs": [
    {
     "name": "stdout",
     "output_type": "stream",
     "text": [
      "Program to calculate length in a string without Len function\n"
     ]
    },
    {
     "name": "stdin",
     "output_type": "stream",
     "text": [
      "Enter a string:  abc\n"
     ]
    },
    {
     "name": "stdout",
     "output_type": "stream",
     "text": [
      "Length of the string: 3\n"
     ]
    }
   ],
   "source": [
    "print ('Program to calculate length in a string without Len function')\n",
    "string1 = input(\"Enter a string: \")\n",
    "length = string_length(string1)\n",
    "print(\"Length of the string:\", length)\n",
    "\n",
    "def string_length(input_string):\n",
    "    count = 0\n",
    "    for char in input_string:\n",
    "        count += 1\n",
    "    return count"
   ]
  },
  {
   "cell_type": "code",
   "execution_count": 23,
   "id": "920eea69-058d-4819-b376-c826b0443d6e",
   "metadata": {
    "tags": []
   },
   "outputs": [
    {
     "name": "stdout",
     "output_type": "stream",
     "text": [
      "Program to check for a particular word or letter in a string \n",
      "in this program the character a and the are identified \n"
     ]
    },
    {
     "name": "stdin",
     "output_type": "stream",
     "text": [
      "Enter a string:  a capital city of the nation is chennai\n"
     ]
    },
    {
     "name": "stdout",
     "output_type": "stream",
     "text": [
      "Number of char are : 5\n"
     ]
    }
   ],
   "source": [
    "print ('Program to check for a particular word or letter in a string ')\n",
    "print ('in this program the character a and the are identified ')\n",
    "string1 = input(\"Enter a string: \")\n",
    "char=0\n",
    "for i in string1 :\n",
    "    if(i=='a' or i=='the'):char=char+1\n",
    "print('Number of char are :',char)"
   ]
  },
  {
   "cell_type": "code",
   "execution_count": 26,
   "id": "16759ab5-c333-4cc9-8cfd-fc41172b3547",
   "metadata": {
    "tags": []
   },
   "outputs": [
    {
     "name": "stdout",
     "output_type": "stream",
     "text": [
      "Program to a word with another in a string\n"
     ]
    },
    {
     "name": "stdin",
     "output_type": "stream",
     "text": [
      "enter a string : world\n"
     ]
    },
    {
     "name": "stdout",
     "output_type": "stream",
     "text": [
      "string after replacing: world\n"
     ]
    }
   ],
   "source": [
    "print ('Program to change a word with another in a string')\n",
    "string=str(input('enter a string :'))\n",
    "string4=string.replace( \"world \" , \"world friends\")\n",
    "print( 'string after replacing:', string4)"
   ]
  },
  {
   "cell_type": "code",
   "execution_count": 7,
   "id": "75e9cf5f-979b-4aca-bd08-1fbf68f17b91",
   "metadata": {},
   "outputs": [
    {
     "name": "stdout",
     "output_type": "stream",
     "text": [
      "Program to find the number of occurance of a word in a string\n",
      "The word 'Data' appears 2 times in the string.\n"
     ]
    }
   ],
   "source": [
    "print ('Program to find the number of occurance of a word in a string')\n",
    "string = \"This is a sample Data Science python program. This is aug 20th data science assignment.\"\n",
    "word = \"Data\"\n",
    "occurrences = count_occurrences(string,word)\n",
    "print(f\"The word '{word}' appears {occurrences} times in the string.\")\n",
    "def count_occurrences(string,word):\n",
    "    return string.lower().count(word.lower())"
   ]
  },
  {
   "cell_type": "code",
   "execution_count": 15,
   "id": "b26c1255-ac5b-412a-b90f-171468323218",
   "metadata": {},
   "outputs": [
    {
     "name": "stdout",
     "output_type": "stream",
     "text": [
      "Program to find the first occurrence of a word in a string\n",
      "The first occurrence of 'Data' starts at index 0.\n"
     ]
    }
   ],
   "source": [
    "print ('Program to find the first occurrence of a word in a string')\n",
    "string = \"Data-This is a sample Data Science python program. This is aug 20th data science assignment.\"\n",
    "word = \"Data\"\n",
    "first_occur = string.lower().find(word.lower())\n",
    "if first_occur !=1:\n",
    "    print(f\"The first occurrence of '{word}' starts at index {first_occur}.\")\n",
    "else:\n",
    "    print(f\"'{target_word}' not found in the string.\")\n"
   ]
  },
  {
   "cell_type": "code",
   "execution_count": 14,
   "id": "167504d8-e3aa-41c0-a709-764298305639",
   "metadata": {},
   "outputs": [
    {
     "name": "stdout",
     "output_type": "stream",
     "text": [
      "Program to find the last occurrence of a word in a string\n",
      "The first occurrence of 'Data' starts at index 63.\n"
     ]
    }
   ],
   "source": [
    "print ('Program to find the last occurrence of a word in a string')\n",
    "string = \"This is a sample Data Science python program. This is aug 20th data science assignment.\"\n",
    "word = \"Data\"\n",
    "first_occur = string.lower().rfind(word.lower())\n",
    "if first_occur !=1:\n",
    "    print(f\"The first occurrence of '{word}' starts at index {first_occur}.\")\n",
    "else:\n",
    "    print(f\"'{target_word}' not found in the string.\")"
   ]
  },
  {
   "cell_type": "code",
   "execution_count": 17,
   "id": "bc6a20f0-cdac-40fc-8046-19e539ad707d",
   "metadata": {},
   "outputs": [
    {
     "name": "stdout",
     "output_type": "stream",
     "text": [
      "Program to Split a string into a list of words.\n",
      "['This', 'is', 'a', 'sample', 'Data', 'Science', 'python', 'program.', 'This', 'is', 'aug', '20th', 'data', 'science', 'assignment.']\n"
     ]
    }
   ],
   "source": [
    "print ('Program to Split a string into a list of words.')\n",
    "string = \"This is a sample Data Science python program. This is aug 20th data science assignment.\"\n",
    "List= string.split()\n",
    "print(List)"
   ]
  },
  {
   "cell_type": "code",
   "execution_count": 21,
   "id": "7f8cd44d-c5f5-40a7-b273-c08adebcf1d3",
   "metadata": {},
   "outputs": [
    {
     "name": "stdout",
     "output_type": "stream",
     "text": [
      "Program to Join a list of words into a string.\n",
      "This is a sample string.\n"
     ]
    }
   ],
   "source": [
    "print ('Program to Join a list of words into a string.')\n",
    "List = ['This', 'is', 'a', 'sample', 'string.']\n",
    "string = ' '.join(List)\n",
    "print(string)"
   ]
  },
  {
   "cell_type": "code",
   "execution_count": 1,
   "id": "96ce0b48-795e-464c-8661-18eec0340fce",
   "metadata": {},
   "outputs": [
    {
     "name": "stdout",
     "output_type": "stream",
     "text": [
      "This_is_a_sample_string.\n"
     ]
    }
   ],
   "source": [
    "input_string = \"This is a sample string.\"\n",
    "\n",
    "converted_string = input_string.replace(\" \", \"_\")\n",
    "\n",
    "print(converted_string)  # This will print: \"This_is_a_sample_string.\"\n"
   ]
  },
  {
   "cell_type": "code",
   "execution_count": null,
   "id": "a5b1fb9f-dc4a-4cad-aa6f-662074f6789c",
   "metadata": {},
   "outputs": [],
   "source": []
  }
 ],
 "metadata": {
  "kernelspec": {
   "display_name": "Python 3 (ipykernel)",
   "language": "python",
   "name": "python3"
  },
  "language_info": {
   "codemirror_mode": {
    "name": "ipython",
    "version": 3
   },
   "file_extension": ".py",
   "mimetype": "text/x-python",
   "name": "python",
   "nbconvert_exporter": "python",
   "pygments_lexer": "ipython3",
   "version": "3.10.8"
  }
 },
 "nbformat": 4,
 "nbformat_minor": 5
}
